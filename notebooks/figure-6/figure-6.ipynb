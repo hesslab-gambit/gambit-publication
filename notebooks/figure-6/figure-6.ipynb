{
 "cells": [
  {
   "cell_type": "markdown",
   "id": "2bfc19fc-b032-4e23-87db-22e59fdc24b2",
   "metadata": {},
   "source": [
    "# Figure 6"
   ]
  },
  {
   "cell_type": "code",
   "execution_count": 1,
   "id": "a702ac56-3083-4bf0-b2b9-6d38b0195b50",
   "metadata": {
    "execution": {
     "iopub.execute_input": "2022-01-23T22:55:48.392375Z",
     "iopub.status.busy": "2022-01-23T22:55:48.390478Z",
     "iopub.status.idle": "2022-01-23T22:55:49.382413Z",
     "shell.execute_reply": "2022-01-23T22:55:49.382683Z"
    }
   },
   "outputs": [],
   "source": [
    "from pathlib import Path\n",
    "\n",
    "import numpy as np\n",
    "import pandas as pd\n",
    "import matplotlib.pyplot as plt\n",
    "import seaborn as sns\n",
    "from scipy.spatial.distance import squareform\n",
    "from scipy.cluster.hierarchy import linkage\n",
    "\n",
    "from gambit.seq import SequenceFile\n",
    "from gambit.kmers import KmerSpec\n",
    "from gambit.sigs.calc import calc_file_signatures\n",
    "from gambit.metric import jaccarddist_pairwise\n",
    "from gambit_pub.dendrograms import linkage_to_df, make_dendrogram, draw_dendrogram"
   ]
  },
  {
   "cell_type": "code",
   "execution_count": 2,
   "id": "3643218e-8010-4c13-992f-6ef00f73491c",
   "metadata": {
    "execution": {
     "iopub.execute_input": "2022-01-23T22:55:49.387397Z",
     "iopub.status.busy": "2022-01-23T22:55:49.386809Z",
     "iopub.status.idle": "2022-01-23T22:55:49.389256Z",
     "shell.execute_reply": "2022-01-23T22:55:49.389503Z"
    }
   },
   "outputs": [],
   "source": [
    "%matplotlib inline\n",
    "\n",
    "plt.rcdefaults()"
   ]
  },
  {
   "cell_type": "markdown",
   "id": "cf8020f9-15cf-445c-9ce7-73bc9ac6eb73",
   "metadata": {},
   "source": [
    "## Code"
   ]
  },
  {
   "cell_type": "markdown",
   "id": "b30f72d0-8f4d-46b8-832e-bfcf293a58ac",
   "metadata": {},
   "source": [
    "## Setup"
   ]
  },
  {
   "cell_type": "code",
   "execution_count": 3,
   "id": "d83799e1-ff6f-4f12-8773-8c3cc89fd900",
   "metadata": {
    "execution": {
     "iopub.execute_input": "2022-01-23T22:55:49.392913Z",
     "iopub.status.busy": "2022-01-23T22:55:49.392461Z",
     "iopub.status.idle": "2022-01-23T22:55:49.395336Z",
     "shell.execute_reply": "2022-01-23T22:55:49.395083Z"
    }
   },
   "outputs": [],
   "source": [
    "in_dir = Path('../../src-data/genome-sets/ecoli-genomes-fig6/')\n",
    "out_dir = Path('../../results/figure-6/')\n",
    "out_dir.mkdir(exist_ok=True)"
   ]
  },
  {
   "cell_type": "code",
   "execution_count": 4,
   "id": "65290236-1842-476a-a5a1-bcf6135c3ca6",
   "metadata": {
    "execution": {
     "iopub.execute_input": "2022-01-23T22:55:49.397795Z",
     "iopub.status.busy": "2022-01-23T22:55:49.397386Z",
     "iopub.status.idle": "2022-01-23T22:55:49.402960Z",
     "shell.execute_reply": "2022-01-23T22:55:49.403184Z"
    }
   },
   "outputs": [],
   "source": [
    "genomes_df = pd.read_csv(in_dir / 'genomes.csv')\n",
    "ngenomes = genomes_df.shape[0]"
   ]
  },
  {
   "cell_type": "code",
   "execution_count": 5,
   "id": "2c80fbe3-72fc-49a1-846c-a6cde70e25c4",
   "metadata": {
    "execution": {
     "iopub.execute_input": "2022-01-23T22:55:49.407788Z",
     "iopub.status.busy": "2022-01-23T22:55:49.407431Z",
     "iopub.status.idle": "2022-01-23T22:55:49.409108Z",
     "shell.execute_reply": "2022-01-23T22:55:49.408793Z"
    }
   },
   "outputs": [],
   "source": [
    "genome_paths = [in_dir / f'fasta/{id}.fasta' for id in genomes_df['id']]\n",
    "genome_files = SequenceFile.from_paths(genome_paths, 'fasta')"
   ]
  },
  {
   "cell_type": "markdown",
   "id": "ee36b500-b6f4-4a0e-ae85-8e8267f79757",
   "metadata": {},
   "source": [
    "## Calculate signatures"
   ]
  },
  {
   "cell_type": "code",
   "execution_count": 6,
   "id": "4dd80274-a725-4419-b012-bbfb81a94019",
   "metadata": {
    "execution": {
     "iopub.execute_input": "2022-01-23T22:55:49.411606Z",
     "iopub.status.busy": "2022-01-23T22:55:49.411174Z",
     "iopub.status.idle": "2022-01-23T22:55:59.060769Z",
     "shell.execute_reply": "2022-01-23T22:55:59.060408Z"
    }
   },
   "outputs": [
    {
     "name": "stderr",
     "output_type": "stream",
     "text": [
      "100%|██████████| 29/29 [00:09<00:00,  3.01it/s]\n"
     ]
    }
   ],
   "source": [
    "kspec = KmerSpec(11, 'ATGAC')\n",
    "\n",
    "sigs = calc_file_signatures(kspec, genome_files, progress=True)"
   ]
  },
  {
   "cell_type": "markdown",
   "id": "df13689b-2f39-432e-bbc8-bb6bfd4b1c46",
   "metadata": {},
   "source": [
    "## Distance matrix"
   ]
  },
  {
   "cell_type": "code",
   "execution_count": 7,
   "id": "9f68cc16-2bc2-45e9-b0f7-5cb19a0e9d36",
   "metadata": {
    "execution": {
     "iopub.execute_input": "2022-01-23T22:55:59.108370Z",
     "iopub.status.busy": "2022-01-23T22:55:59.107929Z",
     "iopub.status.idle": "2022-01-23T22:55:59.110087Z",
     "shell.execute_reply": "2022-01-23T22:55:59.109717Z"
    }
   },
   "outputs": [],
   "source": [
    "dmat = jaccarddist_pairwise(sigs)"
   ]
  },
  {
   "cell_type": "code",
   "execution_count": 8,
   "id": "37f7eba6-1336-47b9-9519-50450d3d23b2",
   "metadata": {
    "execution": {
     "iopub.execute_input": "2022-01-23T22:55:59.112451Z",
     "iopub.status.busy": "2022-01-23T22:55:59.112090Z",
     "iopub.status.idle": "2022-01-23T22:55:59.117403Z",
     "shell.execute_reply": "2022-01-23T22:55:59.117761Z"
    }
   },
   "outputs": [],
   "source": [
    "dmat_df = pd.DataFrame(dmat, index=genomes_df['id'], columns=genomes_df['id'])\n",
    "dmat_df.to_csv(out_dir / 'dmat.csv')"
   ]
  },
  {
   "cell_type": "markdown",
   "id": "e14b2375-838a-4e58-bce5-4a7dfb603c5b",
   "metadata": {},
   "source": [
    "## Clustering"
   ]
  },
  {
   "cell_type": "code",
   "execution_count": 9,
   "id": "21e9c2d8-a077-4410-8683-7676aac9d385",
   "metadata": {
    "execution": {
     "iopub.execute_input": "2022-01-23T22:55:59.123024Z",
     "iopub.status.busy": "2022-01-23T22:55:59.120954Z",
     "iopub.status.idle": "2022-01-23T22:55:59.125862Z",
     "shell.execute_reply": "2022-01-23T22:55:59.125336Z"
    }
   },
   "outputs": [],
   "source": [
    "link = linkage(squareform(dmat), 'average')\n",
    "nodes  = linkage_to_df(link)\n",
    "nnodes = nodes.shape[0]"
   ]
  },
  {
   "cell_type": "code",
   "execution_count": 10,
   "id": "2d7aba8b-4038-46d9-9dfc-e9961d673da1",
   "metadata": {
    "execution": {
     "iopub.execute_input": "2022-01-23T22:55:59.138611Z",
     "iopub.status.busy": "2022-01-23T22:55:59.137608Z",
     "iopub.status.idle": "2022-01-23T22:55:59.139710Z",
     "shell.execute_reply": "2022-01-23T22:55:59.140391Z"
    },
    "tags": []
   },
   "outputs": [],
   "source": [
    "# Assign phylogroups\n",
    "nodes.loc[:ngenomes, 'phylogroup'] = genomes_df['phylogroup']\n",
    "for i in range(ngenomes, nnodes):\n",
    "    left_pg = nodes.loc[nodes.loc[i, 'left'], 'phylogroup']\n",
    "    right_pg = nodes.loc[nodes.loc[i, 'right'], 'phylogroup']\n",
    "    if pd.notnull(left_pg) and left_pg == right_pg:\n",
    "        nodes.loc[i, 'phylogroup'] = left_pg"
   ]
  },
  {
   "cell_type": "markdown",
   "id": "ed6e231d-3802-4f11-a962-76bb3fde176a",
   "metadata": {},
   "source": [
    "## Plot"
   ]
  },
  {
   "cell_type": "code",
   "execution_count": 11,
   "id": "6fbd2388-dedb-453a-a995-04983f043c84",
   "metadata": {
    "execution": {
     "iopub.execute_input": "2022-01-23T22:55:59.149391Z",
     "iopub.status.busy": "2022-01-23T22:55:59.148837Z",
     "iopub.status.idle": "2022-01-23T22:55:59.153324Z",
     "shell.execute_reply": "2022-01-23T22:55:59.152736Z"
    },
    "tags": []
   },
   "outputs": [
    {
     "data": {
      "text/html": [
       "<svg  width=\"275\" height=\"55\"><rect x=\"0\" y=\"0\" width=\"55\" height=\"55\" style=\"fill:#e41a1c;stroke-width:2;stroke:rgb(255,255,255)\"/><rect x=\"55\" y=\"0\" width=\"55\" height=\"55\" style=\"fill:#377eb8;stroke-width:2;stroke:rgb(255,255,255)\"/><rect x=\"110\" y=\"0\" width=\"55\" height=\"55\" style=\"fill:#4daf4a;stroke-width:2;stroke:rgb(255,255,255)\"/><rect x=\"165\" y=\"0\" width=\"55\" height=\"55\" style=\"fill:#984ea3;stroke-width:2;stroke:rgb(255,255,255)\"/><rect x=\"220\" y=\"0\" width=\"55\" height=\"55\" style=\"fill:#ff7f00;stroke-width:2;stroke:rgb(255,255,255)\"/></svg>"
      ],
      "text/plain": [
       "[(0.8941176470588236, 0.10196078431372549, 0.10980392156862745),\n",
       " (0.21568627450980393, 0.49411764705882355, 0.7215686274509804),\n",
       " (0.30196078431372547, 0.6862745098039216, 0.2901960784313726),\n",
       " (0.596078431372549, 0.3058823529411765, 0.6392156862745098),\n",
       " (1.0, 0.4980392156862745, 0.0)]"
      ]
     },
     "execution_count": 11,
     "metadata": {},
     "output_type": "execute_result"
    }
   ],
   "source": [
    "phylogroups = genomes_df['phylogroup'].unique()\n",
    "phylogroups.sort()\n",
    "\n",
    "phylo_palette = sns.color_palette('Set1', len(phylogroups))\n",
    "# phylo_colors = {pg: rgb2hex(rgb) for pg, rgb in zip(phylogroups, phylo_palette)}\n",
    "phylo_colors = dict(zip(phylogroups, phylo_palette))\n",
    "genome_colors = [phylo_colors[pg] for pg in genomes_df['phylogroup']]\n",
    "\n",
    "phylo_palette"
   ]
  },
  {
   "cell_type": "markdown",
   "id": "b62111d3-3be7-4c9f-8f59-fbd85908d1ed",
   "metadata": {},
   "source": [
    "Parameters for manual subplot positioning. Calculate without regard for padding between subplots and figure edge, will be taken care of automatically when saving the figure."
   ]
  },
  {
   "cell_type": "code",
   "execution_count": 12,
   "id": "c7c2052b-e889-4c3a-860c-d84bd6aeffd3",
   "metadata": {
    "execution": {
     "iopub.execute_input": "2022-01-23T22:55:59.159303Z",
     "iopub.status.busy": "2022-01-23T22:55:59.158721Z",
     "iopub.status.idle": "2022-01-23T22:55:59.160355Z",
     "shell.execute_reply": "2022-01-23T22:55:59.160790Z"
    }
   },
   "outputs": [],
   "source": [
    "fig_h = 4\n",
    "\n",
    "# Width of subplots and horizontal padding between them\n",
    "ax_pad = [.15, .45, .2]\n",
    "ax_width = [.5 * fig_h, .25, fig_h, .2]\n",
    "\n",
    "# Left side of axes in physical coordinates (inches)\n",
    "ax_left = []\n",
    "for i in range(4):\n",
    "    left = 0 if i == 0 else ax_left[i-1] + ax_width[i-1] + ax_pad[i-1]\n",
    "    ax_left.append(left)\n",
    "\n",
    "fig_w = sum(ax_pad) + sum(ax_width)\n",
    "\n",
    "# Subplot rects as proportion of figure size (argument to Figure.add_axes())\n",
    "ax_rects = [(l / fig_w, 0, w / fig_w, 1) for l, w in zip(ax_left, ax_width)]"
   ]
  },
  {
   "cell_type": "code",
   "execution_count": 13,
   "id": "960a1489-9392-4ea8-87c6-4f70e658e343",
   "metadata": {
    "execution": {
     "iopub.execute_input": "2022-01-23T22:55:59.168964Z",
     "iopub.status.busy": "2022-01-23T22:55:59.168362Z",
     "iopub.status.idle": "2022-01-23T22:55:59.528204Z",
     "shell.execute_reply": "2022-01-23T22:55:59.528455Z"
    }
   },
   "outputs": [
    {
     "data": {
      "text/plain": [
       "<matplotlib.colorbar.Colorbar at 0x7f108810c100>"
      ]
     },
     "execution_count": 13,
     "metadata": {},
     "output_type": "execute_result"
    },
    {
     "data": {
      "image/png": "[encoded data removed]",
      "text/plain": [
       "<Figure size 725x400 with 4 Axes>"
      ]
     },
     "metadata": {},
     "output_type": "display_data"
    }
   ],
   "source": [
    "# Create figure and subplots\n",
    "fig = plt.figure(\n",
    "    figsize=(fig_w, fig_h),\n",
    ")\n",
    "\n",
    "dg_ax = fig.add_axes(ax_rects[0])\n",
    "tbl_ax = fig.add_axes(ax_rects[1], sharey=dg_ax)\n",
    "hm_ax = fig.add_axes(ax_rects[2], sharey=dg_ax)\n",
    "cbar_ax = fig.add_axes(ax_rects[3])\n",
    "\n",
    "# Dendrogram\n",
    "dg = make_dendrogram(nodes, left=.5)\n",
    "draw_dendrogram(\n",
    "    dg_ax,\n",
    "    dg,\n",
    "    horizontal=True,\n",
    "    colorfunc=lambda i: phylo_colors.get(nodes.loc[i, 'phylogroup'], 'black'),\n",
    ")\n",
    "dg_ax.invert_xaxis()\n",
    "dg_ax.invert_yaxis()\n",
    "dg_ax.set_xlim(None, 0)\n",
    "dg_ax.set_xlabel('GAMBIT Distance')\n",
    "\n",
    "for side in ['left', 'top', 'right']:\n",
    "    dg_ax.spines[side].set_visible(False)\n",
    "\n",
    "# Heatmap\n",
    "lo = dg['leaf_order']\n",
    "hm = hm_ax.pcolor(dmat[np.ix_(lo, lo)], cmap='Purples_r')\n",
    "# sns.heatmap(dmat[np.ix_(lo, lo)], ax=hm_ax, cmap='Purples_r', cbar=False)\n",
    "\n",
    "hm_ax.axis('off')\n",
    "hm_ax.set_aspect(1, share=False, adjustable='box', anchor='W')\n",
    "# hm_ax.axis('image')\n",
    "\n",
    "# Table\n",
    "# tbl_ax.axis('off')\n",
    "for spine in tbl_ax.spines.values():\n",
    "    spine.set_visible(False)\n",
    "\n",
    "for i, gi in enumerate(lo):\n",
    "    pg = genomes_df.loc[gi, 'phylogroup']\n",
    "    tbl_ax.text(0, i + .5, pg, ha='left', va='center', color=phylo_colors[pg])\n",
    "    tbl_ax.text(1, i + .5, genomes_df.loc[gi, 'mlst'], ha='left', va='center')\n",
    "\n",
    "tbl_ax.set_xticks([0, 1], labels=['Phylogroup', 'MLST'], rotation=-45, ha='left', va='top')\n",
    "tbl_ax.set_yticks([])\n",
    "tbl_ax.tick_params(length=0)\n",
    "tbl_ax.set_xlim(.0, 1.0)\n",
    "\n",
    "# Color bar\n",
    "plt.colorbar(\n",
    "    hm,\n",
    "    cax=cbar_ax,\n",
    "    label='GAMBIT Distance',\n",
    ")\n"
   ]
  },
  {
   "cell_type": "code",
   "execution_count": 14,
   "id": "947da25a-5ca4-4a11-ae40-e538759fce90",
   "metadata": {
    "execution": {
     "iopub.execute_input": "2022-01-23T22:55:59.541093Z",
     "iopub.status.busy": "2022-01-23T22:55:59.538572Z",
     "iopub.status.idle": "2022-01-23T22:55:59.957363Z",
     "shell.execute_reply": "2022-01-23T22:55:59.957019Z"
    }
   },
   "outputs": [],
   "source": [
    "fig.savefig(out_dir / 'figure-6.png', dpi=300, bbox_inches='tight')"
   ]
  }
 ],
 "metadata": {
  "kernelspec": {
   "display_name": "GAMBIT Publication",
   "language": "python",
   "name": "gambit-pub"
  },
  "language_info": {
   "codemirror_mode": {
    "name": "ipython",
    "version": 3
   },
   "file_extension": ".py",
   "mimetype": "text/x-python",
   "name": "python",
   "nbconvert_exporter": "python",
   "pygments_lexer": "ipython3",
   "version": "3.9.9"
  }
 },
 "nbformat": 4,
 "nbformat_minor": 5
}
